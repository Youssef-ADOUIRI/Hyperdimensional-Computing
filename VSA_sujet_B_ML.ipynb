{
 "cells": [
  {
   "cell_type": "code",
   "execution_count": 159,
   "metadata": {
    "id": "I0ZK08o00bi5"
   },
   "outputs": [],
   "source": [
    "import torch\n",
    "import numpy as np\n",
    "import time\n",
    "import os\n",
    "from utils import prepare_data, encode_and_save,load\n",
    "from model import BModel, GModel\n",
    "import argparse\n",
    "import torchvision\n",
    "from encoder import RandomFourierEncoder"
   ]
  },
  {
   "cell_type": "code",
   "execution_count": 160,
   "metadata": {},
   "outputs": [
    {
     "data": {
      "text/plain": [
       "True"
      ]
     },
     "execution_count": 160,
     "metadata": {},
     "output_type": "execute_result"
    }
   ],
   "source": [
    "torch.cuda.is_available()"
   ]
  },
  {
   "cell_type": "code",
   "execution_count": 207,
   "metadata": {
    "id": "51KV58vY3Il9"
   },
   "outputs": [],
   "source": [
    "args = argparse.Namespace()\n",
    "args.dataset = \"mnist\" # mnist | fmnist | cifar | isolet | ucihar\n",
    "args.model = \"rff-gvsa\" # rff-hdc linear-hdc rff-gvsa\n",
    "args.dim = 10000\n",
    "args.gamma = 0.3\n",
    "args.gorder = 16\n",
    "args.lr = 0.01\n",
    "args.epoch = 10\n",
    "args.seed = 42\n",
    "args.data_dir = './encoded_data'\n",
    "args.raw_data_dir = \"./dataset\"\n",
    "torch.manual_seed(args.seed)\n",
    "np.random.seed(args.seed)"
   ]
  },
  {
   "cell_type": "code",
   "execution_count": 208,
   "metadata": {
    "id": "lgVv0D5lKVTE"
   },
   "outputs": [],
   "source": [
    "if \"hdc\" in args.model:\n",
    "   args.gorder = 2\n",
    "   print(\"Use binary HDC with random fourier features, ignoring gorder, set to 2.\")\n",
    "args.data_dir = f\"{args.data_dir}/{args.dataset}_{args.model}_order{args.gorder}_gamma{args.gamma}_dim{args.dim}\""
   ]
  },
  {
   "cell_type": "code",
   "execution_count": 209,
   "metadata": {
    "colab": {
     "base_uri": "https://localhost:8080/"
    },
    "id": "NeXrjVjeHnKh",
    "outputId": "58a21b99-0ee4-442d-bfa4-a3d18749e9a1"
   },
   "outputs": [],
   "source": [
    "try:\n",
    "  os.makedirs(args.data_dir)\n",
    "except FileExistsError:\n",
    "  print(\"Encoded data folder already exists\")"
   ]
  },
  {
   "cell_type": "code",
   "execution_count": 210,
   "metadata": {
    "colab": {
     "base_uri": "https://localhost:8080/",
     "height": 1000
    },
    "id": "nhrrQL76IMgt",
    "outputId": "99df19fe-5296-445a-e382-d69d43789ca1"
   },
   "outputs": [
    {
     "name": "stdout",
     "output_type": "stream",
     "text": [
      "# of channels of data 1\n",
      "# of training samples and test samples 60000 10000\n",
      "Encoding with random fourier features encoder.\n",
      "the threshold to discretize fourier features to group elements tensor([-1.5343, -1.1505, -0.8872, -0.6746, -0.4888, -0.3187, -0.1573,  0.0000,\n",
      "         0.1573,  0.3187,  0.4888,  0.6746,  0.8872,  1.1505,  1.5343])\n",
      "Encoded pixels to hypervectors with size:  torch.Size([256, 10000])\n",
      "Encoding training data...\n",
      "Start encoding data\n",
      "12800 images encoded. Total time elapse = 20.28523015975952\n",
      "25600 images encoded. Total time elapse = 40.03036856651306\n",
      "38400 images encoded. Total time elapse = 58.91110110282898\n",
      "51200 images encoded. Total time elapse = 77.51575827598572\n",
      "Finish encoding data\n",
      "Encoding test data...\n",
      "Start encoding data\n",
      "Finish encoding data\n"
     ]
    }
   ],
   "source": [
    "encode_and_save(args)"
   ]
  },
  {
   "cell_type": "code",
   "execution_count": 211,
   "metadata": {
    "id": "qRUMqPrJHuMQ"
   },
   "outputs": [],
   "source": [
    "device = torch.device(\"cuda:0\" if torch.cuda.is_available() else \"cpu\")"
   ]
  },
  {
   "cell_type": "code",
   "execution_count": 212,
   "metadata": {},
   "outputs": [
    {
     "name": "stdout",
     "output_type": "stream",
     "text": [
      "Loading encoded training data...\n",
      "Loading encoded test data...\n",
      "Size of encoded training data torch.Size([60000, 10000]) and test data torch.Size([10000, 10000])\n"
     ]
    }
   ],
   "source": [
    "transform = torchvision.transforms.Compose(\n",
    "        [\n",
    "            torchvision.transforms.ToTensor(),\n",
    "        ]\n",
    "    )\n",
    "train_dataset = torchvision.datasets.MNIST(root='./dataset', train=True, transform=transform, download=True)\n",
    "input_dim = torch.prod(torch.tensor(list(train_dataset[0][0].size())))\n",
    "train_hd, y_train, test_hd, y_test = load(args)"
   ]
  },
  {
   "cell_type": "code",
   "execution_count": 213,
   "metadata": {},
   "outputs": [],
   "source": [
    "encoder = RandomFourierEncoder(\n",
    "        input_dim=input_dim,\n",
    "        gamma=args.gamma,\n",
    "        gorder=args.gorder,\n",
    "        output_dim=args.dim,)\n",
    "encoder.item_mem = torch.load(f\"{args.data_dir}/item_mem.pt\")"
   ]
  },
  {
   "cell_type": "code",
   "execution_count": 214,
   "metadata": {},
   "outputs": [
    {
     "data": {
      "text/plain": [
       "'./encoded_data/mnist_rff-gvsa_order16_gamma0.3_dim10000'"
      ]
     },
     "execution_count": 214,
     "metadata": {},
     "output_type": "execute_result"
    }
   ],
   "source": [
    "args.data_dir"
   ]
  },
  {
   "cell_type": "code",
   "execution_count": 215,
   "metadata": {},
   "outputs": [
    {
     "name": "stdout",
     "output_type": "stream",
     "text": [
      "Calculating centroids for each class...\n",
      "0\n",
      "tensor([14.,  1.,  5.,  ...,  9.,  1., 15.])\n",
      "1\n",
      "tensor([ 8., 11., 13.,  ...,  9.,  5.,  7.])\n",
      "2\n",
      "tensor([ 4.,  5.,  7.,  ..., 11.,  4.,  5.])\n",
      "3\n",
      "tensor([ 4.,  7.,  9.,  ..., 11.,  5.,  5.])\n",
      "4\n",
      "tensor([ 6.,  7.,  8.,  ..., 16.,  9.,  8.])\n",
      "5\n",
      "tensor([ 3.,  5.,  9.,  ..., 10.,  4.,  4.])\n",
      "6\n",
      "tensor([ 3.,  6.,  9.,  ..., 12.,  4.,  4.])\n",
      "7\n",
      "tensor([ 5.,  5.,  5.,  ..., 11.,  5.,  6.])\n",
      "8\n",
      "tensor([ 6.,  8., 11.,  ..., 11.,  5.,  6.])\n",
      "9\n",
      "tensor([ 6.,  6.,  7.,  ..., 14.,  8.,  8.])\n"
     ]
    }
   ],
   "source": [
    "centroids = {c: [] for c in range(10)}\n",
    "print(\"Calculating centroids for each class...\")\n",
    "# Compute class centroids after encoding training data\n",
    "for i in range(10):\n",
    "    c_label = i\n",
    "    print(c_label)\n",
    "    centroids[c_label] = encoder.group_bundle(train_hd[y_train == c_label])\n",
    "    print(centroids[c_label])"
   ]
  },
  {
   "cell_type": "code",
   "execution_count": 216,
   "metadata": {},
   "outputs": [
    {
     "name": "stdout",
     "output_type": "stream",
     "text": [
      "Accuracy: 82.0600%\n"
     ]
    }
   ],
   "source": [
    "correct = 0.0\n",
    "total = 0.0\n",
    "for i , sample in enumerate(test_hd):\n",
    "    distances = []\n",
    "    for c, centroid in centroids.items():\n",
    "        distance = encoder.similarity(sample, centroid)\n",
    "        distances.append(distance)\n",
    "    distances_arr = np.array(distances)\n",
    "    predicted_class = np.argmax(distances_arr)\n",
    "    if predicted_class == y_test[i].item():\n",
    "        correct += 1.0\n",
    "    total += 1.0\n",
    "accuracy = 100 * correct / total\n",
    "print(f\"Accuracy: {accuracy:.4f}%\")"
   ]
  },
  {
   "cell_type": "code",
   "execution_count": 202,
   "metadata": {},
   "outputs": [
    {
     "data": {
      "text/plain": [
       "tensor(0.1607)"
      ]
     },
     "execution_count": 202,
     "metadata": {},
     "output_type": "execute_result"
    }
   ],
   "source": [
    "encoder.similarity(train_hd[y_train == 0][5], centroids[0])"
   ]
  },
  {
   "cell_type": "code",
   "execution_count": 206,
   "metadata": {},
   "outputs": [
    {
     "name": "stdout",
     "output_type": "stream",
     "text": [
      "Accuracy: 11.3500%\n"
     ]
    }
   ],
   "source": [
    "correct = 0.0\n",
    "total = 0.0\n",
    "for i , sample in enumerate(test_hd):\n",
    "    distances = []\n",
    "    for c, centroid in centroids.items():\n",
    "        distance = encoder.similarity_manhatten(sample, centroid)\n",
    "        distances.append(distance)\n",
    "    distances_arr = np.array(distances)\n",
    "    predicted_class = np.argmin(distances_arr)\n",
    "    if predicted_class == y_test[i].item():\n",
    "        correct += 1.0\n",
    "    total += 1.0\n",
    "accuracy2 = 100 * correct / total\n",
    "print(f\"Accuracy: {accuracy2:.4f}%\")"
   ]
  },
  {
   "cell_type": "code",
   "execution_count": null,
   "metadata": {},
   "outputs": [],
   "source": []
  }
 ],
 "metadata": {
  "accelerator": "GPU",
  "colab": {
   "gpuType": "T4",
   "provenance": []
  },
  "kernelspec": {
   "display_name": "Python 3",
   "language": "python",
   "name": "python3"
  },
  "language_info": {
   "codemirror_mode": {
    "name": "ipython",
    "version": 3
   },
   "file_extension": ".py",
   "mimetype": "text/x-python",
   "name": "python",
   "nbconvert_exporter": "python",
   "pygments_lexer": "ipython3",
   "version": "3.11.5"
  }
 },
 "nbformat": 4,
 "nbformat_minor": 0
}
