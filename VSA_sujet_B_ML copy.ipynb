{
 "cells": [
  {
   "cell_type": "code",
   "execution_count": 1,
   "metadata": {
    "id": "I0ZK08o00bi5"
   },
   "outputs": [],
   "source": [
    "import torch\n",
    "import numpy as np\n",
    "import time\n",
    "import os\n",
    "from utils import prepare_data, encode_and_save\n",
    "from model import BModel, GModel\n",
    "import argparse"
   ]
  },
  {
   "cell_type": "code",
   "execution_count": 2,
   "metadata": {},
   "outputs": [
    {
     "data": {
      "text/plain": [
       "True"
      ]
     },
     "execution_count": 2,
     "metadata": {},
     "output_type": "execute_result"
    }
   ],
   "source": [
    "torch.cuda.is_available()"
   ]
  },
  {
   "cell_type": "code",
   "execution_count": 3,
   "metadata": {},
   "outputs": [
    {
     "data": {
      "text/plain": [
       "'12.1'"
      ]
     },
     "execution_count": 3,
     "metadata": {},
     "output_type": "execute_result"
    }
   ],
   "source": [
    "torch.version.cuda"
   ]
  },
  {
   "cell_type": "code",
   "execution_count": 4,
   "metadata": {
    "id": "51KV58vY3Il9"
   },
   "outputs": [],
   "source": [
    "args = argparse.Namespace()\n",
    "args.dataset = \"mnist\" # mnist | fmnist | cifar | isolet | ucihar\n",
    "args.model = \"rff-gvsa\" # rff-hdc linear-hdc rff-gvsa\n",
    "args.dim = 10000\n",
    "args.gamma = 0.8\n",
    "args.gorder = 16\n",
    "args.lr = 0.01\n",
    "args.epoch = 10\n",
    "args.seed = 42\n",
    "args.data_dir = './encoded_data'\n",
    "args.raw_data_dir = \"./dataset\"\n",
    "torch.manual_seed(args.seed)\n",
    "np.random.seed(args.seed)"
   ]
  },
  {
   "cell_type": "code",
   "execution_count": 5,
   "metadata": {
    "id": "lgVv0D5lKVTE"
   },
   "outputs": [],
   "source": [
    "if \"hdc\" in args.model:\n",
    "   args.gorder = 2\n",
    "   print(\"Use binary HDC with random fourier features, ignoring gorder, set to 2.\")\n",
    "args.data_dir = f\"{args.data_dir}/{args.dataset}_{args.model}_order{args.gorder}_gamma{args.gamma}_dim{args.dim}\""
   ]
  },
  {
   "cell_type": "code",
   "execution_count": 6,
   "metadata": {
    "colab": {
     "base_uri": "https://localhost:8080/"
    },
    "id": "NeXrjVjeHnKh",
    "outputId": "58a21b99-0ee4-442d-bfa4-a3d18749e9a1"
   },
   "outputs": [
    {
     "name": "stdout",
     "output_type": "stream",
     "text": [
      "Encoded data folder already exists\n"
     ]
    }
   ],
   "source": [
    "try:\n",
    "  os.makedirs(args.data_dir)\n",
    "except FileExistsError:\n",
    "  print(\"Encoded data folder already exists\")"
   ]
  },
  {
   "cell_type": "code",
   "execution_count": 7,
   "metadata": {},
   "outputs": [
    {
     "name": "stdout",
     "output_type": "stream",
     "text": [
      "# of channels of data 1\n",
      "# of training samples and test samples 60000 10000\n",
      "Encoding with random fourier features encoder.\n",
      "Encoding with random fourier features encoder. fini\n"
     ]
    },
    {
     "ename": "",
     "evalue": "",
     "output_type": "error",
     "traceback": [
      "\u001b[1;31mThe Kernel crashed while executing code in the current cell or a previous cell. \n",
      "\u001b[1;31mPlease review the code in the cell(s) to identify a possible cause of the failure. \n",
      "\u001b[1;31mClick <a href='https://aka.ms/vscodeJupyterKernelCrash'>here</a> for more info. \n",
      "\u001b[1;31mView Jupyter <a href='command:jupyter.viewOutput'>log</a> for further details."
     ]
    }
   ],
   "source": [
    "encode_and_save(args)"
   ]
  },
  {
   "cell_type": "code",
   "execution_count": null,
   "metadata": {
    "id": "qRUMqPrJHuMQ"
   },
   "outputs": [],
   "source": []
  }
 ],
 "metadata": {
  "accelerator": "GPU",
  "colab": {
   "gpuType": "T4",
   "provenance": []
  },
  "kernelspec": {
   "display_name": "tpdata",
   "language": "python",
   "name": "python3"
  },
  "language_info": {
   "codemirror_mode": {
    "name": "ipython",
    "version": 3
   },
   "file_extension": ".py",
   "mimetype": "text/x-python",
   "name": "python",
   "nbconvert_exporter": "python",
   "pygments_lexer": "ipython3",
   "version": "3.12.7"
  }
 },
 "nbformat": 4,
 "nbformat_minor": 0
}
